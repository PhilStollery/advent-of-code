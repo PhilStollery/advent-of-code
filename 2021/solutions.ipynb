{
 "cells": [
  {
   "cell_type": "markdown",
   "metadata": {},
   "source": [
    "# Advent of code 2021"
   ]
  },
  {
   "cell_type": "markdown",
   "metadata": {},
   "source": [
    "### Day 2 - Part I"
   ]
  },
  {
   "cell_type": "code",
   "execution_count": null,
   "metadata": {
    "dotnet_interactive": {
     "language": "csharp"
    }
   },
   "outputs": [
    {
     "name": "stdout",
     "output_type": "stream",
     "text": [
      "Horizontal: 1980, Depth: 951, Answer: 1882980"
     ]
    }
   ],
   "source": [
    "using System.IO;\n",
    "\n",
    "var FileUrl = @\"Day2\\input.txt\";\n",
    "var horizontal = 0;\n",
    "var depth = 0;\n",
    "\n",
    "//file lines\n",
    "string[] lines = File.ReadAllLines(FileUrl);\n",
    "\n",
    "//loop through each file line\n",
    "foreach (string line in lines)\n",
    "{\n",
    "    if (line.Substring(0,1) == \"f\") {\n",
    "      horizontal += int.Parse(line.Substring(line.Length - 1, 1));\n",
    "    } else if (line.Substring(0,1) == \"d\") {\n",
    "      depth += int.Parse(line.Substring(line.Length - 1, 1));\n",
    "    } else if (line.Substring(0,1) == \"u\") {\n",
    "      depth -= int.Parse(line.Substring(line.Length - 1, 1));\n",
    "    }\n",
    "}\n",
    "\n",
    "Console.Write($\"Horizontal: {horizontal}, Depth: {depth}, Answer: {horizontal*depth}\");"
   ]
  },
  {
   "cell_type": "markdown",
   "metadata": {},
   "source": [
    "### Day 2 - Part II"
   ]
  },
  {
   "cell_type": "code",
   "execution_count": null,
   "metadata": {
    "dotnet_interactive": {
     "language": "csharp"
    }
   },
   "outputs": [
    {
     "name": "stdout",
     "output_type": "stream",
     "text": [
      "Horizontal: 1980, Depth: 995572, Answer: 1971232560"
     ]
    }
   ],
   "source": [
    "using System.IO;\n",
    "\n",
    "var FileUrl = @\"Day2\\input.txt\";\n",
    "var horizontal = 0;\n",
    "var depth = 0;\n",
    "var aim = 0;\n",
    "\n",
    "//file lines\n",
    "string[] lines = File.ReadAllLines(FileUrl);\n",
    "\n",
    "//loop through each file line\n",
    "foreach (string line in lines)\n",
    "{\n",
    "    if (line.Substring(0,1) == \"f\") {\n",
    "      horizontal += int.Parse(line.Substring(line.Length - 1, 1));\n",
    "      depth += aim * int.Parse(line.Substring(line.Length - 1, 1));\n",
    "    } else if (line.Substring(0,1) == \"d\") {\n",
    "      aim += int.Parse(line.Substring(line.Length - 1, 1));\n",
    "    } else if (line.Substring(0,1) == \"u\") {\n",
    "      aim -= int.Parse(line.Substring(line.Length - 1, 1));\n",
    "    }\n",
    "}\n",
    "\n",
    "Console.Write($\"Horizontal: {horizontal}, Depth: {depth}, Answer: {horizontal*depth}\");"
   ]
  },
  {
   "cell_type": "markdown",
   "metadata": {},
   "source": [
    "### Day 3 - Part I"
   ]
  },
  {
   "cell_type": "code",
   "execution_count": null,
   "metadata": {
    "dotnet_interactive": {
     "language": "csharp"
    }
   },
   "outputs": [],
   "source": []
  }
 ],
 "metadata": {
  "kernelspec": {
   "display_name": ".NET (C#)",
   "language": "C#",
   "name": ".net-csharp"
  },
  "language_info": {
   "name": "C#"
  }
 },
 "nbformat": 4,
 "nbformat_minor": 2
}
