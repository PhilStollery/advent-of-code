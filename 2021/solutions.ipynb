{
 "cells": [
  {
   "cell_type": "markdown",
   "metadata": {},
   "source": [
    "# Advent of code 2021"
   ]
  },
  {
   "cell_type": "markdown",
   "metadata": {},
   "source": [
    "### Day 2 - Part I"
   ]
  },
  {
   "cell_type": "code",
   "execution_count": null,
   "metadata": {
    "dotnet_interactive": {
     "language": "csharp"
    }
   },
   "outputs": [
    {
     "name": "stdout",
     "output_type": "stream",
     "text": [
      "Horizontal: 1980, Depth: 951, Answer: 1882980"
     ]
    }
   ],
   "source": [
    "using System.IO;\n",
    "\n",
    "var FileUrl = @\"Day2\\input.txt\";\n",
    "var horizontal = 0;\n",
    "var depth = 0;\n",
    "\n",
    "//file lines\n",
    "string[] lines = File.ReadAllLines(FileUrl);\n",
    "\n",
    "//loop through each file line\n",
    "foreach (string line in lines)\n",
    "{\n",
    "    if (line.Substring(0,1) == \"f\") {\n",
    "      horizontal += int.Parse(line.Substring(line.Length - 1, 1));\n",
    "    } else if (line.Substring(0,1) == \"d\") {\n",
    "      depth += int.Parse(line.Substring(line.Length - 1, 1));\n",
    "    } else if (line.Substring(0,1) == \"u\") {\n",
    "      depth -= int.Parse(line.Substring(line.Length - 1, 1));\n",
    "    }\n",
    "}\n",
    "\n",
    "Console.Write($\"Horizontal: {horizontal}, Depth: {depth}, Answer: {horizontal*depth}\");"
   ]
  },
  {
   "cell_type": "markdown",
   "metadata": {},
   "source": [
    "### Day 2 - Part II"
   ]
  },
  {
   "cell_type": "code",
   "execution_count": null,
   "metadata": {
    "dotnet_interactive": {
     "language": "csharp"
    }
   },
   "outputs": [
    {
     "name": "stdout",
     "output_type": "stream",
     "text": [
      "Horizontal: 1980, Depth: 995572, Answer: 1971232560"
     ]
    }
   ],
   "source": [
    "using System.IO;\n",
    "\n",
    "var FileUrl = @\"Day2\\input.txt\";\n",
    "var horizontal = 0;\n",
    "var depth = 0;\n",
    "var aim = 0;\n",
    "\n",
    "//file lines\n",
    "string[] lines = File.ReadAllLines(FileUrl);\n",
    "\n",
    "//loop through each file line\n",
    "foreach (string line in lines)\n",
    "{\n",
    "    if (line.Substring(0,1) == \"f\") {\n",
    "      horizontal += int.Parse(line.Substring(line.Length - 1, 1));\n",
    "      depth += aim * int.Parse(line.Substring(line.Length - 1, 1));\n",
    "    } else if (line.Substring(0,1) == \"d\") {\n",
    "      aim += int.Parse(line.Substring(line.Length - 1, 1));\n",
    "    } else if (line.Substring(0,1) == \"u\") {\n",
    "      aim -= int.Parse(line.Substring(line.Length - 1, 1));\n",
    "    }\n",
    "}\n",
    "\n",
    "Console.Write($\"Horizontal: {horizontal}, Depth: {depth}, Answer: {horizontal*depth}\");"
   ]
  },
  {
   "cell_type": "markdown",
   "metadata": {},
   "source": [
    "### Day 3 - Part I"
   ]
  },
  {
   "cell_type": "code",
   "execution_count": null,
   "metadata": {
    "dotnet_interactive": {
     "language": "csharp"
    }
   },
   "outputs": [
    {
     "name": "stdout",
     "output_type": "stream",
     "text": [
      "Total: 1000, Values: 475,501,495,483,499,520,516,508,490,504,504,528"
     ]
    }
   ],
   "source": [
    "using System.IO;\n",
    "\n",
    "var FileUrl = @\"2021\\Day3\\input.txt\";\n",
    "var gamma = \"00000\";\n",
    "var totalValues = 0;\n",
    "\n",
    "int[] commonArray = { 0, 0, 0, 0, 0, 0, 0, 0, 0, 0, 0, 0 };\n",
    "\n",
    "//file lines\n",
    "string[] lines = File.ReadAllLines(FileUrl);\n",
    "\n",
    "//loop through each file line\n",
    "foreach (string line in lines)\n",
    "{\n",
    "  commonArray[0] += int.Parse(line.Substring(0,1));\n",
    "  commonArray[1] += int.Parse(line.Substring(1,1));\n",
    "  commonArray[2] += int.Parse(line.Substring(2,1));\n",
    "  commonArray[3] += int.Parse(line.Substring(3,1));\n",
    "  commonArray[4] += int.Parse(line.Substring(4,1));\n",
    "  commonArray[5] += int.Parse(line.Substring(5,1));\n",
    "  commonArray[6] += int.Parse(line.Substring(6,1));\n",
    "  commonArray[7] += int.Parse(line.Substring(7,1));\n",
    "  commonArray[8] += int.Parse(line.Substring(8,1));\n",
    "  commonArray[9] += int.Parse(line.Substring(9,1));\n",
    "  commonArray[10] += int.Parse(line.Substring(10,1));\n",
    "  commonArray[11] += int.Parse(line.Substring(11,1));\n",
    "  totalValues += 1;\n",
    "}\n",
    "\n",
    "\n",
    "\n",
    "Console.Write($\"Total: {totalValues}, Values: {commonArray[0]},{commonArray[1]},{commonArray[2]},{commonArray[3]},{commonArray[4]},{commonArray[5]},{commonArray[6]},{commonArray[7]},{commonArray[8]},{commonArray[9]},{commonArray[10]},{commonArray[11]}\");"
   ]
  },
  {
   "cell_type": "markdown",
   "metadata": {},
   "source": [
    "gamma   = 010001110111 = 1143\n",
    "epsilon = 101110001000 = 2952\n",
    "\n",
    "Answer = 3374136"
   ]
  },
  {
   "cell_type": "markdown",
   "metadata": {},
   "source": [
    "### Day 3 - Part II All in Excel tables"
   ]
  },
  {
   "cell_type": "markdown",
   "metadata": {},
   "source": [
    "oxygen = 011101110101 = 1909\n",
    "CO2    = 100100010010 = 2322\n",
    "\n",
    "Answer = 4432698"
   ]
  },
  {
   "cell_type": "code",
   "execution_count": null,
   "metadata": {
    "dotnet_interactive": {
     "language": "csharp"
    }
   },
   "outputs": [
    {
     "name": "stdout",
     "output_type": "stream",
     "text": [
      "Answer=4432698"
     ]
    }
   ],
   "source": [
    "var answer = 1909 * 2322;\n",
    "\n",
    "Console.Write($\"Answer={answer}\");"
   ]
  }
 ],
 "metadata": {
  "kernelspec": {
   "display_name": ".NET (C#)",
   "language": "C#",
   "name": ".net-csharp"
  },
  "language_info": {
   "name": "C#"
  }
 },
 "nbformat": 4,
 "nbformat_minor": 2
}
