{
 "cells": [
  {
   "cell_type": "markdown",
   "metadata": {},
   "source": [
    "## Day 4 - Part I"
   ]
  },
  {
   "cell_type": "markdown",
   "metadata": {},
   "source": [
    "### Data input and shaping"
   ]
  },
  {
   "cell_type": "code",
   "execution_count": null,
   "metadata": {},
   "outputs": [],
   "source": [
    "import numpy as np\n",
    "\n",
    "# Get the bingo callers numbers \n",
    "caller = np.genfromtxt(\"Day4/caller.txt\", dtype=int, delimiter=\",\")\n",
    "\n",
    "# Load all the bingo cards into an array\n",
    "with open(\"Day4/cards.txt\", \"r\") as f:\n",
    "  all_cards = [line.strip() for line in f.readlines()]\n",
    "\n",
    "cards = []\n",
    "card = []\n",
    "\n",
    "for line in all_cards:\n",
    "  if line == \"\":\n",
    "      # last line so this bingo card is complete so start a new one\n",
    "      cards.append(np.array(card))\n",
    "      card = []\n",
    "  else:\n",
    "      # use Numpy arrays\n",
    "      numbers = np.array(line.split(\" \"))\n",
    "      # so we can delete any empty strings\n",
    "      numbers = numbers[numbers != '']\n",
    "      card.append([int(i) for i in numbers])\n",
    "else:\n",
    "  # don't forget the last bingo card, doh!\n",
    "  cards.append(np.array(card))\n"
   ]
  },
  {
   "cell_type": "markdown",
   "metadata": {},
   "source": [
    "### Loop through the callers numbers and find a winner"
   ]
  },
  {
   "cell_type": "code",
   "execution_count": null,
   "metadata": {},
   "outputs": [],
   "source": [
    "found = False\n",
    "\n",
    "for number in caller:\n",
    "  for x in cards:\n",
    "    # set matching numbers to -1\n",
    "    # once looped can sum rows and columns, when -5 on colum or row we have a winning card\n",
    "    x[ x==number ] = -1\n",
    "\n",
    "    # np.sum(x, 0) returns an array of all the sum'd cols, np.sum(x, 1) does it for rows\n",
    "    found = np.any(np.where(np.sum(x, 0) == -5)) or np.any(np.where(np.sum(x, 1) == -5)) \n",
    "    if found:\n",
    "      break\n",
    "  if found:\n",
    "    break\n",
    "\n",
    "# clean the card of -1 so we can sum the remaining numbers\n",
    "x = x [ x != -1 ]\n",
    "\n",
    "print(\"Caller just called: \", number)\n",
    "print(\"Sum of remaining winning numbers: \", np.sum(x))\n",
    "print(\"Answer: \", number * np.sum(x))"
   ]
  },
  {
   "cell_type": "markdown",
   "metadata": {},
   "source": [
    "## Day 4 - Part II\n",
    "\n",
    "Using similar logic let's keep track of the 100 bing cards, ignore them once one they've won"
   ]
  },
  {
   "cell_type": "code",
   "execution_count": null,
   "metadata": {},
   "outputs": [],
   "source": [
    "found = False\n",
    "final = False\n",
    "\n",
    "for number in caller:\n",
    "  delete_winners = []\n",
    "  for idx, x in enumerate(cards):\n",
    "    # set matching numbers to -1\n",
    "    # once looped can sum rows and columns, when -5 on colum or row we have a winning card\n",
    "    x[ x==number ] = -1\n",
    "    \n",
    "    # np.sum(x, 0) returns an array of all the sum'd cols, np.sum(x, 1) does it for rows\n",
    "    found = np.any(np.where(np.sum(x, 0) == -5)) or np.any(np.where(np.sum(x, 1) == -5)) \n",
    "    if found:\n",
    "      # remove winning cards\n",
    "      delete_winners.append(idx)\n",
    "      if len(cards) == 1:\n",
    "        final = True\n",
    "        break\n",
    "\n",
    "  if len(delete_winners) > 0 and len(cards) > 1:\n",
    "    for idx in sorted(delete_winners, reverse=True):\n",
    "        cards.pop(idx)\n",
    "\n",
    "  if final:\n",
    "    break\n",
    "\n",
    "# clean the card of -1 so we can sum the remaining numbers\n",
    "\n",
    "print(\"Whats left: \", cards)\n",
    "print(\"Caller just called: \", number)\n",
    "#print(\"Answer: \", np.sum(cards [cards != -1]) * number)"
   ]
  },
  {
   "cell_type": "markdown",
   "metadata": {},
   "source": [
    "## Day 5 - Part I"
   ]
  },
  {
   "cell_type": "code",
   "execution_count": 6,
   "metadata": {},
   "outputs": [
    {
     "name": "stdout",
     "output_type": "stream",
     "text": [
      "Highway to the:  5147\n"
     ]
    }
   ],
   "source": [
    "import numpy as np\n",
    "\n",
    "# Load co-ordinates\n",
    "with open(\"Day5/input.txt\", \"r\") as f:\n",
    "  plots = [line for line in f.readlines()]\n",
    "\n",
    "lines = []\n",
    "\n",
    "for line in plots:\n",
    "  start = line.split(\"->\")[0]\n",
    "  start = start.strip()\n",
    "  start = [int(x) for x in start.split(\",\")] \n",
    "  end = line.split(\"->\")[1]\n",
    "  end = end.strip()\n",
    "  end = [int(x) for x in end.split(\",\")]  \n",
    "  lines.append([start,end])\n",
    "\n",
    "# use an array of dictionaries to hold counts for each point of a line\n",
    "plot = []\n",
    "\n",
    "for i in range(990):\n",
    "  plot.append([dict(zip(range(990), [0]*990))])\n",
    "\n",
    "for line in lines:\n",
    "  # ingore diagonals\n",
    "  if line[0][0] == line [1][0] or line[0][1] == line [1][1]:\n",
    "    # need to count each point between the start and end\n",
    "    if line[0][0] == line[1][0]:\n",
    "      for y in range(line[0][1], line[1][1], -1 if line[0][1] > line[1][1] else 1):\n",
    "        plot[y][0][line[0][0]] += 1\n",
    "\n",
    "      # range misses last one argh!\n",
    "      if line[0][1] > line[1][1]:\n",
    "        plot[y-1][0][line[0][0]] += 1\n",
    "      else:\n",
    "        plot[y+1][0][line[0][0]] += 1\n",
    "    else:\n",
    "      # y are the same so increment the x\n",
    "      for x in range(line[0][0], line[1][0], -1 if line[0][0] > line[1][0] else 1):\n",
    "        plot[line[0][1]][0][x] += 1\n",
    "\n",
    "      # range misses last one argh!\n",
    "      if line[0][0] > line[1][0]:\n",
    "        plot[line[0][1]][0][x-1] += 1\n",
    "      else:\n",
    "        plot[line[0][1]][0][x+1] += 1\n",
    "\n",
    "danger_zone=0\n",
    "for check_line in plot:\n",
    "  danger_zone += sum(value > 1 for value in check_line[0].values())\n",
    "\n",
    "print(\"Highway to the: \", danger_zone)\n"
   ]
  },
  {
   "cell_type": "markdown",
   "metadata": {},
   "source": [
    "## Day 5 - Part II"
   ]
  },
  {
   "cell_type": "code",
   "execution_count": 1,
   "metadata": {},
   "outputs": [
    {
     "name": "stderr",
     "output_type": "stream",
     "text": [
      "Traceback (most recent call last):\n",
      "  File \"/opt/homebrew/lib/python3.9/site-packages/debugpy/_vendored/pydevd/_pydevd_bundle/pydevd_frame.py\", line 945, in trace_dispatch\n",
      "    self.do_wait_suspend(thread, frame, event, arg)\n",
      "  File \"/opt/homebrew/lib/python3.9/site-packages/debugpy/_vendored/pydevd/_pydevd_bundle/pydevd_frame.py\", line 164, in do_wait_suspend\n",
      "    self._args[0].do_wait_suspend(*args, **kwargs)\n",
      "  File \"/opt/homebrew/lib/python3.9/site-packages/debugpy/_vendored/pydevd/pydevd.py\", line 1976, in do_wait_suspend\n",
      "    keep_suspended = self._do_wait_suspend(thread, frame, event, arg, suspend_type, from_this_thread, frames_tracker)\n",
      "  File \"/opt/homebrew/lib/python3.9/site-packages/debugpy/_vendored/pydevd/pydevd.py\", line 2011, in _do_wait_suspend\n",
      "    time.sleep(0.01)\n",
      "KeyboardInterrupt\n"
     ]
    },
    {
     "ename": "KeyboardInterrupt",
     "evalue": "",
     "output_type": "error",
     "traceback": [
      "\u001b[0;31m---------------------------------------------------------------------------\u001b[0m",
      "\u001b[0;31mKeyboardInterrupt\u001b[0m                         Traceback (most recent call last)",
      "\u001b[0;32m/var/folders/bl/h2cp3s6n70j35k1tj9jssg1h0000gn/T/ipykernel_17132/3836890362.py\u001b[0m in \u001b[0;36m<module>\u001b[0;34m\u001b[0m\n\u001b[1;32m     48\u001b[0m   \u001b[0mdanger_zone\u001b[0m \u001b[0;34m+=\u001b[0m \u001b[0msum\u001b[0m\u001b[0;34m(\u001b[0m\u001b[0mvalue\u001b[0m \u001b[0;34m>\u001b[0m \u001b[0;36m1\u001b[0m \u001b[0;32mfor\u001b[0m \u001b[0mvalue\u001b[0m \u001b[0;32min\u001b[0m \u001b[0mcheck_line\u001b[0m\u001b[0;34m[\u001b[0m\u001b[0;36m0\u001b[0m\u001b[0;34m]\u001b[0m\u001b[0;34m.\u001b[0m\u001b[0mvalues\u001b[0m\u001b[0;34m(\u001b[0m\u001b[0;34m)\u001b[0m\u001b[0;34m)\u001b[0m\u001b[0;34m\u001b[0m\u001b[0;34m\u001b[0m\u001b[0m\n\u001b[1;32m     49\u001b[0m \u001b[0;34m\u001b[0m\u001b[0m\n\u001b[0;32m---> 50\u001b[0;31m \u001b[0mprint\u001b[0m\u001b[0;34m(\u001b[0m\u001b[0;34m\"Highway to the: \"\u001b[0m\u001b[0;34m,\u001b[0m \u001b[0mdanger_zone\u001b[0m\u001b[0;34m)\u001b[0m\u001b[0;34m\u001b[0m\u001b[0;34m\u001b[0m\u001b[0m\n\u001b[0m",
      "\u001b[0;32m/var/folders/bl/h2cp3s6n70j35k1tj9jssg1h0000gn/T/ipykernel_17132/3836890362.py\u001b[0m in \u001b[0;36m<module>\u001b[0;34m\u001b[0m\n\u001b[1;32m     48\u001b[0m   \u001b[0mdanger_zone\u001b[0m \u001b[0;34m+=\u001b[0m \u001b[0msum\u001b[0m\u001b[0;34m(\u001b[0m\u001b[0mvalue\u001b[0m \u001b[0;34m>\u001b[0m \u001b[0;36m1\u001b[0m \u001b[0;32mfor\u001b[0m \u001b[0mvalue\u001b[0m \u001b[0;32min\u001b[0m \u001b[0mcheck_line\u001b[0m\u001b[0;34m[\u001b[0m\u001b[0;36m0\u001b[0m\u001b[0;34m]\u001b[0m\u001b[0;34m.\u001b[0m\u001b[0mvalues\u001b[0m\u001b[0;34m(\u001b[0m\u001b[0;34m)\u001b[0m\u001b[0;34m)\u001b[0m\u001b[0;34m\u001b[0m\u001b[0;34m\u001b[0m\u001b[0m\n\u001b[1;32m     49\u001b[0m \u001b[0;34m\u001b[0m\u001b[0m\n\u001b[0;32m---> 50\u001b[0;31m \u001b[0mprint\u001b[0m\u001b[0;34m(\u001b[0m\u001b[0;34m\"Highway to the: \"\u001b[0m\u001b[0;34m,\u001b[0m \u001b[0mdanger_zone\u001b[0m\u001b[0;34m)\u001b[0m\u001b[0;34m\u001b[0m\u001b[0;34m\u001b[0m\u001b[0m\n\u001b[0m",
      "\u001b[0;32m/opt/homebrew/lib/python3.9/site-packages/debugpy/_vendored/pydevd/_pydevd_bundle/pydevd_frame.py\u001b[0m in \u001b[0;36mtrace_dispatch\u001b[0;34m(self, frame, event, arg)\u001b[0m\n\u001b[1;32m    943\u001b[0m                 \u001b[0;31m# if thread has a suspend flag, we suspend with a busy wait\u001b[0m\u001b[0;34m\u001b[0m\u001b[0;34m\u001b[0m\u001b[0;34m\u001b[0m\u001b[0m\n\u001b[1;32m    944\u001b[0m                 \u001b[0;32mif\u001b[0m \u001b[0minfo\u001b[0m\u001b[0;34m.\u001b[0m\u001b[0mpydev_state\u001b[0m \u001b[0;34m==\u001b[0m \u001b[0mSTATE_SUSPEND\u001b[0m\u001b[0;34m:\u001b[0m\u001b[0;34m\u001b[0m\u001b[0;34m\u001b[0m\u001b[0m\n\u001b[0;32m--> 945\u001b[0;31m                     \u001b[0mself\u001b[0m\u001b[0;34m.\u001b[0m\u001b[0mdo_wait_suspend\u001b[0m\u001b[0;34m(\u001b[0m\u001b[0mthread\u001b[0m\u001b[0;34m,\u001b[0m \u001b[0mframe\u001b[0m\u001b[0;34m,\u001b[0m \u001b[0mevent\u001b[0m\u001b[0;34m,\u001b[0m \u001b[0marg\u001b[0m\u001b[0;34m)\u001b[0m\u001b[0;34m\u001b[0m\u001b[0;34m\u001b[0m\u001b[0m\n\u001b[0m\u001b[1;32m    946\u001b[0m                     \u001b[0;32mreturn\u001b[0m \u001b[0mself\u001b[0m\u001b[0;34m.\u001b[0m\u001b[0mtrace_dispatch\u001b[0m\u001b[0;34m\u001b[0m\u001b[0;34m\u001b[0m\u001b[0m\n\u001b[1;32m    947\u001b[0m                 \u001b[0;32melse\u001b[0m\u001b[0;34m:\u001b[0m\u001b[0;34m\u001b[0m\u001b[0;34m\u001b[0m\u001b[0m\n",
      "\u001b[0;32m/opt/homebrew/lib/python3.9/site-packages/debugpy/_vendored/pydevd/_pydevd_bundle/pydevd_frame.py\u001b[0m in \u001b[0;36mdo_wait_suspend\u001b[0;34m(self, *args, **kwargs)\u001b[0m\n\u001b[1;32m    162\u001b[0m \u001b[0;34m\u001b[0m\u001b[0m\n\u001b[1;32m    163\u001b[0m     \u001b[0;32mdef\u001b[0m \u001b[0mdo_wait_suspend\u001b[0m\u001b[0;34m(\u001b[0m\u001b[0mself\u001b[0m\u001b[0;34m,\u001b[0m \u001b[0;34m*\u001b[0m\u001b[0margs\u001b[0m\u001b[0;34m,\u001b[0m \u001b[0;34m**\u001b[0m\u001b[0mkwargs\u001b[0m\u001b[0;34m)\u001b[0m\u001b[0;34m:\u001b[0m\u001b[0;34m\u001b[0m\u001b[0;34m\u001b[0m\u001b[0m\n\u001b[0;32m--> 164\u001b[0;31m         \u001b[0mself\u001b[0m\u001b[0;34m.\u001b[0m\u001b[0m_args\u001b[0m\u001b[0;34m[\u001b[0m\u001b[0;36m0\u001b[0m\u001b[0;34m]\u001b[0m\u001b[0;34m.\u001b[0m\u001b[0mdo_wait_suspend\u001b[0m\u001b[0;34m(\u001b[0m\u001b[0;34m*\u001b[0m\u001b[0margs\u001b[0m\u001b[0;34m,\u001b[0m \u001b[0;34m**\u001b[0m\u001b[0mkwargs\u001b[0m\u001b[0;34m)\u001b[0m\u001b[0;34m\u001b[0m\u001b[0;34m\u001b[0m\u001b[0m\n\u001b[0m\u001b[1;32m    165\u001b[0m \u001b[0;34m\u001b[0m\u001b[0m\n\u001b[1;32m    166\u001b[0m     \u001b[0;31m# IFDEF CYTHON\u001b[0m\u001b[0;34m\u001b[0m\u001b[0;34m\u001b[0m\u001b[0;34m\u001b[0m\u001b[0m\n",
      "\u001b[0;32m/opt/homebrew/lib/python3.9/site-packages/debugpy/_vendored/pydevd/pydevd.py\u001b[0m in \u001b[0;36mdo_wait_suspend\u001b[0;34m(self, thread, frame, event, arg, exception_type)\u001b[0m\n\u001b[1;32m   1974\u001b[0m \u001b[0;34m\u001b[0m\u001b[0m\n\u001b[1;32m   1975\u001b[0m             \u001b[0;32mwith\u001b[0m \u001b[0mself\u001b[0m\u001b[0;34m.\u001b[0m\u001b[0m_threads_suspended_single_notification\u001b[0m\u001b[0;34m.\u001b[0m\u001b[0mnotify_thread_suspended\u001b[0m\u001b[0;34m(\u001b[0m\u001b[0mthread_id\u001b[0m\u001b[0;34m,\u001b[0m \u001b[0mstop_reason\u001b[0m\u001b[0;34m)\u001b[0m\u001b[0;34m:\u001b[0m\u001b[0;34m\u001b[0m\u001b[0;34m\u001b[0m\u001b[0m\n\u001b[0;32m-> 1976\u001b[0;31m                 \u001b[0mkeep_suspended\u001b[0m \u001b[0;34m=\u001b[0m \u001b[0mself\u001b[0m\u001b[0;34m.\u001b[0m\u001b[0m_do_wait_suspend\u001b[0m\u001b[0;34m(\u001b[0m\u001b[0mthread\u001b[0m\u001b[0;34m,\u001b[0m \u001b[0mframe\u001b[0m\u001b[0;34m,\u001b[0m \u001b[0mevent\u001b[0m\u001b[0;34m,\u001b[0m \u001b[0marg\u001b[0m\u001b[0;34m,\u001b[0m \u001b[0msuspend_type\u001b[0m\u001b[0;34m,\u001b[0m \u001b[0mfrom_this_thread\u001b[0m\u001b[0;34m,\u001b[0m \u001b[0mframes_tracker\u001b[0m\u001b[0;34m)\u001b[0m\u001b[0;34m\u001b[0m\u001b[0;34m\u001b[0m\u001b[0m\n\u001b[0m\u001b[1;32m   1977\u001b[0m \u001b[0;34m\u001b[0m\u001b[0m\n\u001b[1;32m   1978\u001b[0m         \u001b[0mframes_list\u001b[0m \u001b[0;34m=\u001b[0m \u001b[0;32mNone\u001b[0m\u001b[0;34m\u001b[0m\u001b[0;34m\u001b[0m\u001b[0m\n",
      "\u001b[0;32m/opt/homebrew/lib/python3.9/site-packages/debugpy/_vendored/pydevd/pydevd.py\u001b[0m in \u001b[0;36m_do_wait_suspend\u001b[0;34m(self, thread, frame, event, arg, suspend_type, from_this_thread, frames_tracker)\u001b[0m\n\u001b[1;32m   2009\u001b[0m \u001b[0;34m\u001b[0m\u001b[0m\n\u001b[1;32m   2010\u001b[0m             \u001b[0mself\u001b[0m\u001b[0;34m.\u001b[0m\u001b[0mprocess_internal_commands\u001b[0m\u001b[0;34m(\u001b[0m\u001b[0;34m)\u001b[0m\u001b[0;34m\u001b[0m\u001b[0;34m\u001b[0m\u001b[0m\n\u001b[0;32m-> 2011\u001b[0;31m             \u001b[0mtime\u001b[0m\u001b[0;34m.\u001b[0m\u001b[0msleep\u001b[0m\u001b[0;34m(\u001b[0m\u001b[0;36m0.01\u001b[0m\u001b[0;34m)\u001b[0m\u001b[0;34m\u001b[0m\u001b[0;34m\u001b[0m\u001b[0m\n\u001b[0m\u001b[1;32m   2012\u001b[0m \u001b[0;34m\u001b[0m\u001b[0m\n\u001b[1;32m   2013\u001b[0m         \u001b[0mself\u001b[0m\u001b[0;34m.\u001b[0m\u001b[0mcancel_async_evaluation\u001b[0m\u001b[0;34m(\u001b[0m\u001b[0mget_current_thread_id\u001b[0m\u001b[0;34m(\u001b[0m\u001b[0mthread\u001b[0m\u001b[0;34m)\u001b[0m\u001b[0;34m,\u001b[0m \u001b[0mstr\u001b[0m\u001b[0;34m(\u001b[0m\u001b[0mid\u001b[0m\u001b[0;34m(\u001b[0m\u001b[0mframe\u001b[0m\u001b[0;34m)\u001b[0m\u001b[0;34m)\u001b[0m\u001b[0;34m)\u001b[0m\u001b[0;34m\u001b[0m\u001b[0;34m\u001b[0m\u001b[0m\n",
      "\u001b[0;31mKeyboardInterrupt\u001b[0m: "
     ]
    }
   ],
   "source": [
    "import numpy as np\n",
    "\n",
    "# Load co-ordinates\n",
    "with open(\"Day5/input.txt\", \"r\") as f:\n",
    "  plots = [line for line in f.readlines()]\n",
    "\n",
    "lines = []\n",
    "\n",
    "for line in plots:\n",
    "  start = line.split(\"->\")[0]\n",
    "  start = start.strip()\n",
    "  start = [int(x) for x in start.split(\",\")] \n",
    "  end = line.split(\"->\")[1]\n",
    "  end = end.strip()\n",
    "  end = [int(x) for x in end.split(\",\")]  \n",
    "  lines.append([start,end])\n",
    "\n",
    "# use an array of dictionaries to hold counts for each point of a line\n",
    "plot = []\n",
    "\n",
    "for i in range(990):\n",
    "  plot.append([dict(zip(range(990), [0]*990))])\n",
    "\n",
    "for line in lines:\n",
    "  # handle vertical and horizontal lines\n",
    "  if line[0][0] == line [1][0] or line[0][1] == line [1][1]:\n",
    "    # need to count each point between the start and end\n",
    "    if line[0][0] == line[1][0]:\n",
    "      for y in range(line[0][1], line[1][1], -1 if line[0][1] > line[1][1] else 1):\n",
    "        plot[y][0][line[0][0]] += 1\n",
    "\n",
    "      # range misses last one argh!\n",
    "      if line[0][1] > line[1][1]:\n",
    "        plot[y-1][0][line[0][0]] += 1\n",
    "      else:\n",
    "        plot[y+1][0][line[0][0]] += 1\n",
    "    else:\n",
    "      # y are the same so increment the x\n",
    "      for x in range(line[0][0], line[1][0], -1 if line[0][0] > line[1][0] else 1):\n",
    "        plot[line[0][1]][0][x] += 1\n",
    "\n",
    "      # range misses last one argh!\n",
    "      if line[0][0] > line[1][0]:\n",
    "        plot[line[0][1]][0][x-1] += 1\n",
    "      else:\n",
    "        plot[line[0][1]][0][x+1] += 1\n",
    "  else: # it's diagonal\n",
    "    x = line[0][0]\n",
    "    y = line[0][1]\n",
    "\n",
    "    \n",
    "\n",
    "danger_zone=0\n",
    "for check_line in plot:\n",
    "  danger_zone += sum(value > 1 for value in check_line[0].values())\n",
    "\n",
    "print(\"Highway to the: \", danger_zone)\n"
   ]
  },
  {
   "cell_type": "markdown",
   "metadata": {},
   "source": [
    "## Day 6 - Part I"
   ]
  },
  {
   "cell_type": "code",
   "execution_count": null,
   "metadata": {},
   "outputs": [],
   "source": [
    "import numpy as np\n",
    "\n",
    "shoal = []\n",
    "load = np.genfromtxt(\"Day6/input.txt\", delimiter=\",\", dtype=int)\n",
    "\n",
    "for fish in load:\n",
    "  shoal.append(fish)\n",
    "\n",
    "for day in range(80):\n",
    "  for f in range(len(shoal)):\n",
    "    if shoal[f]==0:\n",
    "      shoal.append(8)\n",
    "      shoal[f]=6\n",
    "    else:\n",
    "      shoal[f]-=1\n",
    "\n",
    "print(\"Shoal is now: \", len(shoal), \" fish.\")\n",
    "  "
   ]
  },
  {
   "cell_type": "markdown",
   "metadata": {},
   "source": [
    "## Day 6 - Part II"
   ]
  },
  {
   "cell_type": "code",
   "execution_count": null,
   "metadata": {},
   "outputs": [],
   "source": [
    "import numpy as np\n",
    "\n",
    "fish_ages = { 0:0, 1:0, 2:0, 3:0, 4:0, 5:0, 6:0, 7:0, 8:0 }\n",
    "\n",
    "load = np.genfromtxt(\"Day6/input.txt\", delimiter=\",\", dtype=int)\n",
    "\n",
    "for fish in load:\n",
    "  fish_ages[fish] += 1\n",
    "\n",
    "def a_days_life (fish_ages):\n",
    "  updates = dict(fish_ages)\n",
    "  for f in range(8):\n",
    "    updates[f] = fish_ages[f+1]\n",
    "  \n",
    "  updates[8] = fish_ages[0] # all fish that are 0 give birth so set them to 8\n",
    "  updates[6] += fish_ages[0] # all fish that are old reset to 6 so increment 6\n",
    "\n",
    "  return updates\n",
    "  \n",
    "shoal = fish_ages\n",
    "for day in range(256):\n",
    "  shoal = a_days_life(shoal)\n",
    "\n",
    "print(\"Shoal is now: \", sum(shoal.values()))"
   ]
  }
 ],
 "metadata": {
  "interpreter": {
   "hash": "b0fa6594d8f4cbf19f97940f81e996739fb7646882a419484c72d19e05852a7e"
  },
  "kernelspec": {
   "display_name": "Python 3.9.5 64-bit",
   "language": "python",
   "name": "python3"
  },
  "language_info": {
   "codemirror_mode": {
    "name": "ipython",
    "version": 3
   },
   "file_extension": ".py",
   "mimetype": "text/x-python",
   "name": "python",
   "nbconvert_exporter": "python",
   "pygments_lexer": "ipython3",
   "version": "3.9.5"
  },
  "orig_nbformat": 4
 },
 "nbformat": 4,
 "nbformat_minor": 2
}
