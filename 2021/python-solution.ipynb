{
 "cells": [
  {
   "cell_type": "markdown",
   "metadata": {},
   "source": [
    "## Day 4 - Part I"
   ]
  },
  {
   "cell_type": "markdown",
   "metadata": {},
   "source": [
    "### Data input and shaping"
   ]
  },
  {
   "cell_type": "code",
   "execution_count": null,
   "metadata": {},
   "outputs": [],
   "source": [
    "import numpy as np\n",
    "\n",
    "# Get the bingo callers numbers \n",
    "caller = np.genfromtxt(\"Day4/caller.txt\", dtype=int, delimiter=\",\")\n",
    "\n",
    "# Load all the bingo cards into an array\n",
    "with open(\"Day4/cards.txt\", \"r\") as f:\n",
    "  all_cards = [line.strip() for line in f.readlines()]\n",
    "\n",
    "cards = []\n",
    "card = []\n",
    "\n",
    "for line in all_cards:\n",
    "  if line == \"\":\n",
    "      # last line so this bingo card is complete so start a new one\n",
    "      cards.append(np.array(card))\n",
    "      card = []\n",
    "  else:\n",
    "      # use Numpy arrays\n",
    "      numbers = np.array(line.split(\" \"))\n",
    "      # so we can delete any empty strings\n",
    "      numbers = numbers[numbers != '']\n",
    "      card.append([int(i) for i in numbers])\n",
    "else:\n",
    "  # don't forget the last bingo card, doh!\n",
    "  cards.append(np.array(card))\n"
   ]
  },
  {
   "cell_type": "markdown",
   "metadata": {},
   "source": [
    "### Loop through the callers numbers and find a winner"
   ]
  },
  {
   "cell_type": "code",
   "execution_count": null,
   "metadata": {},
   "outputs": [],
   "source": [
    "found = False\n",
    "\n",
    "for number in caller:\n",
    "  for x in cards:\n",
    "    # set matching numbers to -1\n",
    "    # once looped can sum rows and columns, when -5 on colum or row we have a winning card\n",
    "    x[ x==number ] = -1\n",
    "\n",
    "    # np.sum(x, 0) returns an array of all the sum'd cols, np.sum(x, 1) does it for rows\n",
    "    found = np.any(np.where(np.sum(x, 0) == -5)) or np.any(np.where(np.sum(x, 1) == -5)) \n",
    "    if found:\n",
    "      break\n",
    "  if found:\n",
    "    break\n",
    "\n",
    "# clean the card of -1 so we can sum the remaining numbers\n",
    "x = x [ x != -1 ]\n",
    "\n",
    "print(\"Caller just called: \", number)\n",
    "print(\"Sum of remaining winning numbers: \", np.sum(x))\n",
    "print(\"Answer: \", number * np.sum(x))"
   ]
  },
  {
   "cell_type": "markdown",
   "metadata": {},
   "source": [
    "## Day 4 - Part II\n",
    "\n",
    "Using similar logic let's keep track of the 100 bing cards, ignore them once one they've won"
   ]
  },
  {
   "cell_type": "code",
   "execution_count": null,
   "metadata": {},
   "outputs": [],
   "source": [
    "found = False\n",
    "final = False\n",
    "\n",
    "for number in caller:\n",
    "  delete_winners = []\n",
    "  for idx, x in enumerate(cards):\n",
    "    # set matching numbers to -1\n",
    "    # once looped can sum rows and columns, when -5 on colum or row we have a winning card\n",
    "    x[ x==number ] = -1\n",
    "    \n",
    "    # np.sum(x, 0) returns an array of all the sum'd cols, np.sum(x, 1) does it for rows\n",
    "    found = np.any(np.where(np.sum(x, 0) == -5)) or np.any(np.where(np.sum(x, 1) == -5)) \n",
    "    if found:\n",
    "      # remove winning cards\n",
    "      delete_winners.append(idx)\n",
    "      if len(cards) == 1:\n",
    "        final = True\n",
    "        break\n",
    "\n",
    "  if len(delete_winners) > 0 and len(cards) > 1:\n",
    "    for idx in sorted(delete_winners, reverse=True):\n",
    "        cards.pop(idx)\n",
    "\n",
    "  if final:\n",
    "    break\n",
    "\n",
    "# clean the card of -1 so we can sum the remaining numbers\n",
    "\n",
    "print(\"Whats left: \", cards)\n",
    "print(\"Caller just called: \", number)\n",
    "#print(\"Answer: \", np.sum(cards [cards != -1]) * number)"
   ]
  },
  {
   "cell_type": "markdown",
   "metadata": {},
   "source": [
    "## Day 5 - Part I"
   ]
  },
  {
   "cell_type": "code",
   "execution_count": 208,
   "metadata": {},
   "outputs": [],
   "source": [
    "import numpy as np\n",
    "\n",
    "# Load co-ordinates\n",
    "with open(\"Day5/example.txt\", \"r\") as f:\n",
    "  plots = [line for line in f.readlines()]\n",
    "\n",
    "lines = []\n",
    "\n",
    "for line in plots:\n",
    "  start = line.split(\"->\").split(\",\")\n"
   ]
  },
  {
   "cell_type": "markdown",
   "metadata": {},
   "source": [
    "## Day 6 - Part I"
   ]
  },
  {
   "cell_type": "code",
   "execution_count": 21,
   "metadata": {},
   "outputs": [
    {
     "name": "stdout",
     "output_type": "stream",
     "text": [
      "[4, 1, 1, 4, 1, 2, 1, 4, 1, 3, 4, 4, 1, 5, 5, 1, 3, 1, 1, 1, 4, 4, 3, 1, 5, 3, 1, 2, 5, 1, 1, 5, 1, 1, 4, 1, 1, 1, 1, 2, 1, 5, 3, 4, 4, 1, 1, 1, 1, 1, 1, 1, 1, 1, 2, 1, 1, 1, 1, 1, 5, 1, 1, 1, 4, 1, 2, 3, 5, 1, 2, 2, 4, 1, 4, 4, 4, 1, 2, 5, 1, 2, 1, 1, 1, 1, 1, 1, 4, 1, 1, 4, 3, 4, 2, 1, 3, 1, 1, 1, 3, 5, 5, 4, 3, 4, 1, 5, 1, 1, 1, 2, 2, 1, 3, 1, 2, 4, 1, 1, 3, 3, 1, 3, 3, 1, 1, 3, 1, 5, 1, 1, 3, 1, 1, 1, 5, 4, 1, 1, 1, 1, 4, 1, 1, 3, 5, 4, 3, 1, 1, 5, 4, 1, 1, 2, 5, 4, 2, 1, 4, 1, 1, 1, 1, 3, 1, 1, 1, 1, 4, 1, 1, 1, 1, 2, 4, 1, 1, 1, 1, 3, 1, 1, 5, 1, 1, 1, 1, 1, 1, 4, 2, 1, 3, 1, 1, 1, 2, 4, 2, 3, 1, 4, 1, 2, 1, 4, 2, 1, 4, 4, 1, 5, 1, 1, 4, 4, 1, 2, 2, 1, 1, 1, 1, 1, 1, 1, 1, 1, 1, 1, 4, 5, 4, 1, 3, 1, 3, 1, 1, 1, 5, 3, 5, 5, 2, 2, 1, 4, 1, 4, 2, 1, 4, 1, 2, 1, 1, 2, 1, 1, 5, 4, 2, 1, 1, 1, 2, 4, 1, 1, 1, 1, 2, 1, 1, 5, 1, 1, 2, 2, 5, 1, 1, 1, 1, 1, 2, 4, 2, 3, 1, 2, 1, 5, 4, 5, 1, 4]\n"
     ]
    }
   ],
   "source": [
    "import numpy as np\n",
    "\n",
    "shoal = []\n",
    "load = np.genfromtxt(\"Day6/input.txt\", delimiter=\",\", dtype=int)\n",
    "\n",
    "for fish in load:\n",
    "  shoal.append(fish)\n",
    "\n",
    "print(shoal)\n",
    "\n",
    "for day in range(256):\n",
    "  for f in range(len(shoal)):\n",
    "    if shoal[f]==0:\n",
    "      shoal.append(8)\n",
    "      shoal[f]=6\n",
    "    else:\n",
    "      shoal[f]-=1\n",
    "\n",
    "print(\"Shoal is now: \", len(shoal), \" fish.\")\n",
    "  "
   ]
  }
 ],
 "metadata": {
  "interpreter": {
   "hash": "b0fa6594d8f4cbf19f97940f81e996739fb7646882a419484c72d19e05852a7e"
  },
  "kernelspec": {
   "display_name": "Python 3.9.5 64-bit",
   "language": "python",
   "name": "python3"
  },
  "language_info": {
   "codemirror_mode": {
    "name": "ipython",
    "version": 3
   },
   "file_extension": ".py",
   "mimetype": "text/x-python",
   "name": "python",
   "nbconvert_exporter": "python",
   "pygments_lexer": "ipython3",
   "version": "3.10.0"
  },
  "orig_nbformat": 4
 },
 "nbformat": 4,
 "nbformat_minor": 2
}
